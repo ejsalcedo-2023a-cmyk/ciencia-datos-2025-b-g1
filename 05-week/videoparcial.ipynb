{
 "cells": [
  {
   "cell_type": "markdown",
   "id": "79b51568",
   "metadata": {},
   "source": [
    "Parcil corte 1"
   ]
  },
  {
   "cell_type": "markdown",
   "id": "b7d8f61d",
   "metadata": {},
   "source": [
    "El objetivo es obtener un gráfico de barras comparativo de las notas de los estudiantes en la materia ciencia de datos, la cual va a comparar 3 grupos diferentes para identificar el comportamiento de los grupos y hacer un ranking del 1 al 3."
   ]
  },
  {
   "cell_type": "code",
   "execution_count": 3,
   "id": "6b060a80",
   "metadata": {},
   "outputs": [
    {
     "name": "stdout",
     "output_type": "stream",
     "text": [
      "grupo: A\n",
      "Corte: 3\n",
      "Nota final: 3.97\n"
     ]
    }
   ],
   "source": [
    "#Algoritmo de notas finales\n",
    "\n",
    "#cragar datos de las notas \n",
    "Grupo = input (\"Ingrese el grupo: \")\n",
    "Corte = input (\"Ingrese el corte: \")\n",
    "if Corte == \"1\" or Corte == \"2\":\n",
    "    parcial_nota = float(input(\"Ingrese la nota del parcial: \"))\n",
    "    actividades_nota = float(input(\"Ingrese la nota de las actividades: \"))\n",
    "    certificacion_nota = float(input(\"Ingrese la nota de certificacion: \"))\n",
    "    autoevaluacion_nota = float(input(\"Ingrese la nota de autoevaluacion: \"))\n",
    "    coevaluacion_nota = float(input(\"Ingrese la nota de coevaluacion: \"))\n",
    "if Corte == \"3\":\n",
    "    Parcial_nota = float(input(\"Ingrese la nota promedio del parcial: \"))\n",
    "    actividades_nota = float(input(\"Ingrese la nota promedio de actividades: \"))\n",
    "    certificacion_nota = float(input(\"Ingrese la nota de certificacion: \"))\n",
    "    autoevaluacion_nota = float(input(\"Ingrese la nota de autoevaluacion: \"))\n",
    "    coevaluacion_nota = float(input(\"Ingrese la nota de coevaluacion: \"))\n",
    "    proyecto_nota = float(input(\"Ingrese la nota del proyecto: \"))\n",
    "\n",
    "#calculo de la nota final por corte\n",
    "if Corte == \"1\" or Corte == \"2\":\n",
    "    nota_final = (parcial_nota * 0.70) + (actividades_nota * 0.15) + (certificacion_nota * 0.10) + (autoevaluacion_nota * 0.02) + (coevaluacion_nota * 0.03)\n",
    "if Corte == \"3\":\n",
    "    nota_final = (Parcial_nota * 0.50) + (proyecto_nota * 0.20) + (actividades_nota * 0.15) + (certificacion_nota * 0.10) + (autoevaluacion_nota * 0.02) + (coevaluacion_nota * 0.03)\n",
    "\n",
    "#Definir los pesos de cada componente\n",
    "pesos_corte1y2 = {\n",
    "    \"Parcial\": 0.70,\n",
    "    \"Actividades\": 0.15,\n",
    "    \"Certificacion\": 0.10,\n",
    "    \"Autoevaluacion\": 0.02,\n",
    "    \"Coevaluacion\": 0.03\n",
    "}\n",
    "pesos_corte3 = {\n",
    "    \"Parcial\": 0.50,\n",
    "    \"Proyecto\": 0.20,\n",
    "    \"Actividades\": 0.15,\n",
    "    \"Certificacion\": 0.10,\n",
    "    \"Autoevaluacion\": 0.02,\n",
    "    \"Coevaluacion\": 0.03\n",
    "}\n",
    "#Mostrar la nota final\n",
    "print (f\"grupo: {Grupo}\")\n",
    "print (f\"Corte: {Corte}\")\n",
    "print (f\"Nota final: {nota_final:.2f}\")"
   ]
  },
  {
   "cell_type": "code",
   "execution_count": 4,
   "id": "a6484be5",
   "metadata": {},
   "outputs": [
    {
     "data": {
      "image/png": "[encoded data removed]",
      "text/plain": [
       "<Figure size 640x480 with 1 Axes>"
      ]
     },
     "metadata": {},
     "output_type": "display_data"
    }
   ],
   "source": [
    "#Importar la libreria\n",
    "import matplotlib.pyplot as plt\n",
    "\n",
    "#Datos para el grafico\n",
    "x = [\"grupoA\", \"grupoB\", \"grupoC\"]\n",
    "y = [3.97, 3.84, 3.76]\n",
    "\n",
    "#Crear el grafico\n",
    "plt.bar(x, y, color=['blue', 'orange', 'green'])\n",
    "\n",
    "#Personalizar el grafico\n",
    "plt.title(\"Promedio de notas por grupo\")\n",
    "plt.xlabel(\"Grupos\")\n",
    "plt.ylabel(\"Nota final del corte 3\")\n",
    "plt.ylim(0, 5)\n",
    "\n",
    "#Mostrar el grafico\n",
    "plt.show()"
   ]
  },
  {
   "cell_type": "markdown",
   "id": "75488d62",
   "metadata": {},
   "source": [
    "Ranking\n",
    "1. Grupo A\n",
    "2. Grupo B\n",
    "3. Grupo C"
   ]
  }
 ],
 "metadata": {
  "kernelspec": {
   "display_name": "Python 3",
   "language": "python",
   "name": "python3"
  },
  "language_info": {
   "codemirror_mode": {
    "name": "ipython",
    "version": 3
   },
   "file_extension": ".py",
   "mimetype": "text/x-python",
   "name": "python",
   "nbconvert_exporter": "python",
   "pygments_lexer": "ipython3",
   "version": "3.13.7"
  }
 },
 "nbformat": 4,
 "nbformat_minor": 5
}
