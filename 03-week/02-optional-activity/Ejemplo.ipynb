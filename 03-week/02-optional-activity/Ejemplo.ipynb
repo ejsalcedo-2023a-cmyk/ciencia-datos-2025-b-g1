{
 "cells": [
  {
   "cell_type": "code",
   "execution_count": 3,
   "id": "be353fdc",
   "metadata": {
    "vscode": {
     "languageId": "markdown"
    }
   },
   "outputs": [
    {
     "name": "stdout",
     "output_type": "stream",
     "text": [
      "\n",
      "Cliente: Pedro\n",
      "Producto: arroz\n",
      "Valor unitario: $1200.00\n",
      "Cantidad: 3\n",
      "Subtotal: $3600.00\n",
      "Descuento aplicado: 0%\n",
      "Monto de descuento: $0.00\n",
      "Total a pagar: $3600.00\n"
     ]
    }
   ],
   "source": [
    "# Algoritmo de descuento de compra\n",
    "\n",
    "# Solicitar datos al usuario\n",
    "nombre_cliente = input(\"Ingrese el nombre del cliente: \")\n",
    "nombre_producto = input(\"Ingrese el nombre del producto: \")\n",
    "valor_unitario = float(input(\"Ingrese el valor unitario del producto: \"))\n",
    "cantidad = int(input(\"Ingrese la cantidad de unidades que va a llevar: \"))\n",
    "\n",
    "# Calcular el total sin descuento\n",
    "total_sin_descuento = valor_unitario * cantidad\n",
    "\n",
    "# Definir el porcentaje de descuento según la cantidad\n",
    "if cantidad >= 10:\n",
    "    descuento = 0.15  # 15% de descuento\n",
    "elif cantidad >= 5:\n",
    "    descuento = 0.10  # 10% de descuento\n",
    "else:\n",
    "    descuento = 0.0   # Sin descuento\n",
    "\n",
    "# Calcular el monto de descuento y el total a pagar\n",
    "monto_descuento = total_sin_descuento * descuento\n",
    "total_a_pagar = total_sin_descuento - monto_descuento\n",
    "\n",
    "# Mostrar resultados\n",
    "print(f\"\\nCliente: {nombre_cliente}\")\n",
    "print(f\"Producto: {nombre_producto}\")\n",
    "print(f\"Valor unitario: ${valor_unitario:.2f}\")\n",
    "print(f\"Cantidad: {cantidad}\")\n",
    "print(f\"Subtotal: ${total_sin_descuento:.2f}\")\n",
    "print(f\"Descuento aplicado: {descuento*100:.0f}%\")\n",
    "print(f\"Monto de descuento: ${monto_descuento:.2f}\")\n",
    "print(f\"Total a pagar: ${total_a_pagar:.2f}\")"
   ]
  }
 ],
 "metadata": {
  "kernelspec": {
   "display_name": "Python 3",
   "language": "python",
   "name": "python3"
  },
  "language_info": {
   "codemirror_mode": {
    "name": "ipython",
    "version": 3
   },
   "file_extension": ".py",
   "mimetype": "text/x-python",
   "name": "python",
   "nbconvert_exporter": "python",
   "pygments_lexer": "ipython3",
   "version": "3.13.7"
  }
 },
 "nbformat": 4,
 "nbformat_minor": 5
}
